{
 "cells": [
  {
   "cell_type": "code",
   "execution_count": 7,
   "id": "d2c34e1f-c7fc-4f63-9eb5-396aa22f354f",
   "metadata": {},
   "outputs": [
    {
     "name": "stderr",
     "output_type": "stream",
     "text": [
      "C:\\Users\\46723\\AppData\\Local\\Programs\\Python\\Python310\\lib\\site-packages\\tqdm\\auto.py:22: TqdmWarning: IProgress not found. Please update jupyter and ipywidgets. See https://ipywidgets.readthedocs.io/en/stable/user_install.html\n",
      "  from .autonotebook import tqdm as notebook_tqdm\n"
     ]
    },
    {
     "name": "stdout",
     "output_type": "stream",
     "text": [
      "128\n",
      "2\n",
      "256\n",
      "2\n",
      "512\n",
      "1\n"
     ]
    }
   ],
   "source": [
    "import torch\n",
    "features=[64, 128, 256, 512]\n",
    "for feature in features[1:]:\n",
    "    print(feature)\n",
    "    if feature == features[-1]:\n",
    "        print(1)\n",
    "    else:\n",
    "        print(2)"
   ]
  },
  {
   "cell_type": "code",
   "execution_count": 17,
   "id": "545da34c-0f08-4443-a2cc-e628f01668a2",
   "metadata": {},
   "outputs": [
    {
     "name": "stdout",
     "output_type": "stream",
     "text": [
      "3.25\n",
      "3.25\n"
     ]
    }
   ],
   "source": [
    "x = torch.tensor([[1.0, 3.0], [6.0, 3.0]])\n",
    "print(x.mean().item())\n",
    "\n",
    "var = (1+3+6+3)/4\n",
    "print(var)"
   ]
  },
  {
   "cell_type": "code",
   "execution_count": null,
   "id": "6400659e-8f92-4f60-bb64-e060d3372b5f",
   "metadata": {},
   "outputs": [],
   "source": []
  }
 ],
 "metadata": {
  "kernelspec": {
   "display_name": "Python 3 (ipykernel)",
   "language": "python",
   "name": "python3"
  },
  "language_info": {
   "codemirror_mode": {
    "name": "ipython",
    "version": 3
   },
   "file_extension": ".py",
   "mimetype": "text/x-python",
   "name": "python",
   "nbconvert_exporter": "python",
   "pygments_lexer": "ipython3",
   "version": "3.10.6"
  }
 },
 "nbformat": 4,
 "nbformat_minor": 5
}
